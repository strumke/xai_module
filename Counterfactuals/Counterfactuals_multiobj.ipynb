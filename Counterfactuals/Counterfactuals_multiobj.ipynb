{
 "cells": [
  {
   "cell_type": "code",
   "execution_count": null,
   "id": "28103a84-c037-45f1-9219-b271465edd85",
   "metadata": {},
   "outputs": [],
   "source": [
    "import numpy as np\n",
    "import pandas as pd\n",
    "import optuna\n",
    "from sklearn.preprocessing import MinMaxScaler\n",
    "import xgboost\n",
    "\n",
    "from utils import encode_features, get_train_test_data, train_model, evaluate_model, generate_individual, epsilon_rounding, get_relevant_candidates\n",
    "\n",
    "optuna.logging.set_verbosity(optuna.logging.WARNING)"
   ]
  },
  {
   "cell_type": "markdown",
   "id": "8400eef2-26eb-4f6e-b5e8-7c7f354563ba",
   "metadata": {},
   "source": [
    "## Data"
   ]
  },
  {
   "cell_type": "code",
   "execution_count": null,
   "id": "c87682a3-744b-4f5b-a9e3-3238a3bb729b",
   "metadata": {},
   "outputs": [],
   "source": [
    "def load_data(data_filepath=\"../data/Loan_data_extracted.csv\"):\n",
    "    \"\"\"\n",
    "    Input: path to .csv data file\n",
    "    \n",
    "    TODO: specify in feature_info whether features are of type:\n",
    "        fixed, meaning cannot change for the counterfactual\n",
    "        unique, meaning can only take existing categorical values\n",
    "        increase, meaning their value can only increase and not decrease\n",
    "        range, meaning their new value can take a range of values\n",
    "\n",
    "    Returns:\n",
    "        dataframe and feature configuration dictionary\n",
    "    \"\"\"\n",
    "    df = pd.read_csv(data_filepath)\n",
    "    df = df.drop('Loan_ID', axis=1)\n",
    "    df = df.dropna()\n",
    "    \n",
    "    feature_config = {\n",
    "        \"categorical\": [\"Gender\", \"Married\", \"Education\", \"Self_Employed\", \"Property_Area\", \"Loan_Status\"],\n",
    "    \n",
    "        \"feature_info\": [\n",
    "            ('Gender', 'todo'),\n",
    "            ('Married', 'todo'),\n",
    "            ('Dependents', 'todo'),\n",
    "            ('Education', 'todo'),\n",
    "            ('Self_Employed', 'todo'),\n",
    "            ('ApplicantIncome', 'todo'),\n",
    "            ('CoapplicantIncome', 'todo'),\n",
    "            ('LoanAmount', 'todo'),\n",
    "            ('Loan_Amount_Term', 'todo'),\n",
    "            ('Credit_History', 'todo'),\n",
    "            ('Property_Area', 'todo'),\n",
    "        ],\n",
    "    \n",
    "        \"categorical_features\": [\"Gender\", \"Married\", \"Education\", \"Self_Employed\", \"Property_Area\"]\n",
    "    }\n",
    "\n",
    "    return df, feature_config"
   ]
  },
  {
   "cell_type": "markdown",
   "id": "73837ecc-fdf4-40fa-8b50-fca3e02d6488",
   "metadata": {},
   "source": [
    "## Model"
   ]
  },
  {
   "cell_type": "code",
   "execution_count": null,
   "id": "c140f5b8-636c-407c-95a6-4deb68995e93",
   "metadata": {},
   "outputs": [],
   "source": [
    "# Load the model from the saved file\n",
    "model = xgboost.XGBClassifier()\n",
    "model.load_model(\"xgboost_model.json\")"
   ]
  },
  {
   "cell_type": "markdown",
   "id": "dffee7b6-3349-407a-a62c-2a445ddc7443",
   "metadata": {},
   "source": [
    "## TODO: Code for counterfactual search"
   ]
  },
  {
   "cell_type": "code",
   "execution_count": null,
   "id": "76b9ca57-c85b-4693-bae2-96f7d43daff2",
   "metadata": {},
   "outputs": [],
   "source": [
    "def misfit(x_prime, y_target, model):\n",
    "    \"\"\"\n",
    "    Optimisation criterion 1\n",
    "    Calculate absolute difference between y_target and y_prime_prediction.\n",
    "    \"\"\"\n",
    "    \n",
    "    #TODO\n",
    "    \n",
    "    return "
   ]
  },
  {
   "cell_type": "code",
   "execution_count": null,
   "id": "09e62e0f-838c-4887-9980-0c05cc80f5e3",
   "metadata": {},
   "outputs": [],
   "source": [
    "def distance(X, x, x_prime, numerical, categorical):\n",
    "    \"\"\"\n",
    "    Optimisation criterion 2\n",
    "    Calculate distance between x_prime and x.\n",
    "    \"\"\"\n",
    "    # Normalize data\n",
    "    scaler = MinMaxScaler()\n",
    "    scaler.fit(X[numerical])\n",
    "    x_normalized = scaler.transform(x[numerical])\n",
    "    x_prime_normalized = scaler.transform(x_prime[numerical])\n",
    "        \n",
    "    # Compute distances\n",
    "    #TODO\n",
    "    \n",
    "    return"
   ]
  },
  {
   "cell_type": "code",
   "execution_count": null,
   "id": "465a6e6e-f4aa-4467-8434-eeca0413b4e4",
   "metadata": {},
   "outputs": [],
   "source": [
    "def sparsity(x, x_prime):\n",
    "    \"\"\"\n",
    "    Optimisation criterion 3\n",
    "    Return number of unchanged features.\n",
    "    \"\"\"\n",
    "    #TODO\n",
    "    \n",
    "    return "
   ]
  },
  {
   "cell_type": "code",
   "execution_count": null,
   "id": "59c5fe13-e61b-46a8-a2d5-bdeaf2edb559",
   "metadata": {},
   "outputs": [],
   "source": [
    "def closest_real(X, x_prime, categorical, numerical):\n",
    "    \"\"\"\n",
    "    Optimisation criterion 4\n",
    "    Return the minimum distance between x_prime and any point in X.\n",
    "    \"\"\"\n",
    "    scaler = MinMaxScaler()\n",
    "    X_normalized = scaler.fit_transform(X[numerical])\n",
    "    x_prime_normalized = scaler.transform(x_prime[numerical])\n",
    "    \n",
    "    # Compute total distance\n",
    "    #TODO\n",
    "    \n",
    "    return"
   ]
  },
  {
   "cell_type": "code",
   "execution_count": null,
   "id": "f8141393-6089-4917-acb6-232faa087784",
   "metadata": {},
   "outputs": [],
   "source": [
    "def objective(trial, X, x, features, model, y_target, numerical, categorical):\n",
    "    x_prime = x.copy()\n",
    "    for feature in features:\n",
    "        feature.sample(trial)\n",
    "        x_prime[feature.name] = feature.value\n",
    "    epsilon_rounding(x, x_prime, 1e-1)\n",
    "\n",
    "    obj1 = misfit(x_prime, y_target, model)\n",
    "    obj2 = distance(X, x, x_prime, numerical, categorical)\n",
    "    obj3 = sparsity(x, x_prime)\n",
    "    obj4 = closest_real(X, x_prime, categorical, numerical)\n",
    "\n",
    "    return obj1, obj2, obj3, obj4"
   ]
  },
  {
   "cell_type": "code",
   "execution_count": null,
   "id": "5c217024-992e-4dbd-8913-12b5422e582d",
   "metadata": {},
   "outputs": [],
   "source": [
    "def get_counterfactuals(X, x, y_target, model, \n",
    "                        numerical, categorical, features, \n",
    "                        tol, optimization_steps, timeout):\n",
    "\n",
    "    study = optuna.create_study(directions=['minimize', 'minimize', 'maximize', 'minimize'], \n",
    "                                sampler=optuna.samplers.NSGAIISampler(seed=42)) \n",
    "    \n",
    "    study.optimize(lambda trial: objective(trial, X, x, features, model, \n",
    "                                           y_target, \n",
    "                                           numerical, \n",
    "                                           categorical), \n",
    "                   n_trials=optimization_steps, \n",
    "                   timeout=timeout)\n",
    "    \n",
    "    candidates_df = get_relevant_candidates(study, x, model, y_target, tol)\n",
    "    \n",
    "    return candidates_df"
   ]
  },
  {
   "cell_type": "markdown",
   "id": "43c702b4-54bb-4d37-b113-23e2e01dc712",
   "metadata": {},
   "source": [
    "## Provided datapoint and data"
   ]
  },
  {
   "cell_type": "code",
   "execution_count": null,
   "id": "4e9e7ffa-5e0e-4c04-a177-84622ff41769",
   "metadata": {},
   "outputs": [],
   "source": [
    "X_obs, feat_conf = load_data(\"Loan_data_extracted.csv\")\n",
    "X_obs = encode_features(X_obs, feat_conf[\"categorical\"])"
   ]
  },
  {
   "cell_type": "code",
   "execution_count": null,
   "id": "ed1456bf-62af-4c65-9f84-0d0becc50a7c",
   "metadata": {},
   "outputs": [],
   "source": [
    "customer = np.array([0,1,0,0,0,2000,1500,1000,480,0,1])\n",
    "x = pd.DataFrame([customer], columns=X_obs.columns[:-1].tolist())"
   ]
  },
  {
   "cell_type": "code",
   "execution_count": null,
   "id": "43473303-0258-48ff-a1a2-22a89a21bdda",
   "metadata": {},
   "outputs": [],
   "source": [
    "x"
   ]
  },
  {
   "cell_type": "code",
   "execution_count": null,
   "id": "361e203b-262a-4679-8553-2f843e1bed88",
   "metadata": {},
   "outputs": [],
   "source": [
    "# Check that our customer x did not get the loan\n",
    "\n",
    "# TODO\n",
    "\n",
    "# and help her find out what she has to do in order to get the loan\n",
    "# If you have implemented everything above correctly, the code below\n",
    "# will find the counterfactuals"
   ]
  },
  {
   "cell_type": "markdown",
   "id": "2244a23c-2581-4697-b2c4-d9fa33e4aa19",
   "metadata": {},
   "source": [
    "## Search for counterfactuals"
   ]
  },
  {
   "cell_type": "code",
   "execution_count": null,
   "id": "b5390755-0d22-4aec-ade6-b705cccaa2e7",
   "metadata": {},
   "outputs": [],
   "source": [
    "# Make a list of Feature objects containing information about how \n",
    "# each feature is allowed to change when generating counterfactuals\n",
    "change_features = generate_individual(X_obs, x, feat_conf[\"feature_info\"])"
   ]
  },
  {
   "cell_type": "code",
   "execution_count": null,
   "id": "7325576b-285c-43a6-994e-ca7f41a007b3",
   "metadata": {},
   "outputs": [],
   "source": [
    "# Set the desired new model prediction\n",
    "y_CF = 0.7\n",
    "print(f\"Searching for counterfactuals with y_CF = {y_CF}...\\n\")\n",
    "numerical_features = [x for x in df.columns if x not in feat_conf[\"categorical\"]]\n",
    "CFS = get_counterfactuals(X_obs, x, y_CF, model, \n",
    "                          numerical_features, \n",
    "                          feat_conf[\"categorical_features\"], \n",
    "                          change_features, \n",
    "                          tol=0.05, \n",
    "                          optimization_steps=500, \n",
    "                          timeout=None) "
   ]
  },
  {
   "cell_type": "code",
   "execution_count": null,
   "id": "82baba19-599b-4c90-a9da-5bdb1f4cccc0",
   "metadata": {},
   "outputs": [],
   "source": [
    "x"
   ]
  },
  {
   "cell_type": "code",
   "execution_count": null,
   "id": "de11bba7-cb82-4057-a483-841fd0aedf64",
   "metadata": {},
   "outputs": [],
   "source": [
    "CFS"
   ]
  }
 ],
 "metadata": {
  "kernelspec": {
   "display_name": "Python 3 (ipykernel)",
   "language": "python",
   "name": "python3"
  },
  "language_info": {
   "codemirror_mode": {
    "name": "ipython",
    "version": 3
   },
   "file_extension": ".py",
   "mimetype": "text/x-python",
   "name": "python",
   "nbconvert_exporter": "python",
   "pygments_lexer": "ipython3",
   "version": "3.12.11"
  }
 },
 "nbformat": 4,
 "nbformat_minor": 5
}
