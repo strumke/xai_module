{
 "cells": [
  {
   "cell_type": "code",
   "execution_count": 7,
   "id": "075f6e5b-4e33-49be-95d9-44183fb3abf6",
   "metadata": {},
   "outputs": [],
   "source": [
    "import pandas as pd\n",
    "import numpy as np\n",
    "import random\n",
    "\n",
    "import matplotlib.pyplot as plt\n",
    "import xgboost\n",
    "\n",
    "from sklearn import metrics\n",
    "from sklearn.model_selection import train_test_split"
   ]
  },
  {
   "cell_type": "markdown",
   "id": "b6aa6922-83b0-48c7-a370-5da1ddcd23fc",
   "metadata": {},
   "source": [
    "## Data"
   ]
  },
  {
   "cell_type": "markdown",
   "id": "99e5d548-e969-42e7-a137-6ed3cf50900d",
   "metadata": {},
   "source": [
    "##### First, get the .csv file containing the titanic data from https://calmcode.io/static/data/titanic.csv"
   ]
  },
  {
   "cell_type": "code",
   "execution_count": 8,
   "id": "66f39148-d78f-4bd8-8c06-6059d63b111e",
   "metadata": {},
   "outputs": [],
   "source": [
    "df = pd.read_csv('../titanic_data.csv')\n",
    "df = df[[\"pclass\",\"sex\",\"age\",\"survived\"]]\n",
    "df.dropna(inplace=True)\n",
    "\n",
    "features = df.columns\n",
    "\n",
    "# Column sex is type string. Encode it to numerical\n",
    "mapping = {\"female\": 0, \"male\": 1}\n",
    "df[\"sex\"] = df[\"sex\"].map(mapping)\n",
    "\n",
    "# Train test split\n",
    "X_data = df[['pclass', 'sex', 'age']].values\n",
    "y_data = df['survived'].values\n",
    "X_train, X_test, y_train, y_test = train_test_split(X_data, y_data, test_size=0.3)"
   ]
  },
  {
   "cell_type": "markdown",
   "id": "c1f89a6c-31a7-4e0d-b548-bed8060134f5",
   "metadata": {},
   "source": [
    "## Model"
   ]
  },
  {
   "cell_type": "code",
   "execution_count": 9,
   "id": "ef6555cc-11f1-4540-8af8-03a489576eb7",
   "metadata": {},
   "outputs": [],
   "source": [
    "def accuracy(true_values, predictions):\n",
    "    return np.mean(true_values == predictions)"
   ]
  },
  {
   "cell_type": "code",
   "execution_count": 10,
   "id": "5149b981-a10c-4ce2-a32a-14ca2c61505f",
   "metadata": {},
   "outputs": [
    {
     "name": "stdout",
     "output_type": "stream",
     "text": [
      "Accuracy:  0.8697674418604651\n",
      "Precision:  0.8717948717948718\n",
      "Sensitivity / recall:  0.7906976744186046\n"
     ]
    },
    {
     "data": {
      "image/png": "[encoded data removed]",
      "text/plain": [
       "<Figure size 640x480 with 1 Axes>"
      ]
     },
     "metadata": {},
     "output_type": "display_data"
    }
   ],
   "source": [
    "model = xgboost.XGBClassifier()\n",
    "model.fit(X_train, y_train)\n",
    "\n",
    "# Predict and evaluate model \n",
    "predictions = model.predict(X_test)\n",
    "print(\"Accuracy: \", accuracy(y_test, predictions))\n",
    "print(\"Precision: \", metrics.precision_score(y_test, predictions))\n",
    "print(\"Sensitivity / recall: \", metrics.recall_score(y_test, predictions))\n",
    "\n",
    "probs  = model.predict_proba(X_test)[:,1]\n",
    "\n",
    "plt.hist(y_test, color=\"green\", alpha=0.5, label=\"targets\")\n",
    "plt.hist(probs, color=\"blue\", alpha=0.5, label=\"predictions\")\n",
    "plt.legend()\n",
    "plt.show()"
   ]
  },
  {
   "cell_type": "code",
   "execution_count": 11,
   "id": "99c05453-41d3-4acd-ba72-2d8d57a67deb",
   "metadata": {},
   "outputs": [],
   "source": [
    "def niceprint(l):\n",
    "    gender = \"male\" if l[1] == 1 else \"female\"\n",
    "    print(\"Pclass\\t|     Gender\\t|\\tAge\\t|\")\n",
    "    print(f\"{l[0]} \\t|     {gender}\\t|\\t{l[2]}\\t|\")"
   ]
  },
  {
   "cell_type": "code",
   "execution_count": 12,
   "id": "246fff35-6830-474d-abdf-9b817ccaf53d",
   "metadata": {},
   "outputs": [
    {
     "name": "stdout",
     "output_type": "stream",
     "text": [
      "Paul:\n",
      "Pclass\t|     Gender\t|\tAge\t|\n",
      "2 \t|     male\t|\t25\t|\n",
      "Chance for survival: 0.0703936442732811\n",
      "\n"
     ]
    }
   ],
   "source": [
    "X_paul = [2, 1, 25]\n",
    "pred_paul = model.predict_proba([X_paul])\n",
    "print(\"Paul:\")\n",
    "niceprint(X_paul)\n",
    "print(f\"Chance for survival: {pred_paul[0][1]}\\n\")"
   ]
  },
  {
   "cell_type": "code",
   "execution_count": 13,
   "id": "b43d994b-7e75-4b8c-a1fe-27f11d5e02dd",
   "metadata": {},
   "outputs": [
    {
     "name": "stdout",
     "output_type": "stream",
     "text": [
      "Chance for survival of counterfactual Paul with\n",
      "Pclass\t|     Gender\t|\tAge\t|\n",
      "1 \t|     male\t|\t25\t|\n",
      "is: 0.7663219\n",
      "Pclass\t|     Gender\t|\tAge\t|\n",
      "2 \t|     female\t|\t25\t|\n",
      "is: 0.64023286\n",
      "Pclass\t|     Gender\t|\tAge\t|\n",
      "2 \t|     male\t|\t12\t|\n",
      "is: 0.8534521\n"
     ]
    }
   ],
   "source": [
    "print(\"Chance for survival of counterfactual Paul with\")\n",
    "for cf in [[1,1,25], [2,0,25], [2,1,12]]: \n",
    "    niceprint(cf)\n",
    "    print(\"is:\", model.predict_proba([cf])[0][1])"
   ]
  }
 ],
 "metadata": {
  "kernelspec": {
   "display_name": "Python 3 (ipykernel)",
   "language": "python",
   "name": "python3"
  },
  "language_info": {
   "codemirror_mode": {
    "name": "ipython",
    "version": 3
   },
   "file_extension": ".py",
   "mimetype": "text/x-python",
   "name": "python",
   "nbconvert_exporter": "python",
   "pygments_lexer": "ipython3",
   "version": "3.13.7"
  }
 },
 "nbformat": 4,
 "nbformat_minor": 5
}
